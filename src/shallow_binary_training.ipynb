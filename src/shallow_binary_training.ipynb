{
 "cells": [
  {
   "cell_type": "code",
   "execution_count": 1,
   "metadata": {},
   "outputs": [],
   "source": [
    "# Hugo Brandão de Oliveira | 640727 | Engenharia de Computação | Coração Eucarístico\n",
    "# Gabriell Murta de Paula Nunes | 636042 | Engenharia de Computação | Coração Eucarístico\n",
    "# Joao Antônio Ferreira Neto | 640846 | Engenharia de Computação | Coração Eucarístico\n",
    "import time\n",
    "import numpy as np"
   ]
  },
  {
   "cell_type": "code",
   "execution_count": 2,
   "metadata": {},
   "outputs": [
    {
     "name": "stdout",
     "output_type": "stream",
     "text": [
      "Loading datasets...\n",
      "Loading train dataset...\n",
      "Loaded 17334 images (with extensions) in 5.747182500000008 s\n",
      "Getting image descriptors...\n",
      "Loaded descriptors for label 0:  (6858, 2)\n",
      "Loaded descriptors for label 1:  (3138, 2)\n",
      "Loaded descriptors for label 2:  (4548, 2)\n",
      "Loaded descriptors for label 3:  (2271, 2)\n",
      "Loaded descriptors for label 4:  (519, 2)\n",
      "Total image loading time: 15.160060600000008 s...\n",
      "Loading test dataset...\n",
      "Loaded 4968 images (with extensions) in 1.4577530000000252 s\n",
      "Getting image descriptors...\n",
      "Loaded descriptors for label 0:  (1917, 2)\n",
      "Loaded descriptors for label 1:  (888, 2)\n",
      "Loaded descriptors for label 2:  (1341, 2)\n",
      "Loaded descriptors for label 3:  (669, 2)\n",
      "Loaded descriptors for label 4:  (153, 2)\n",
      "Total image loading time: 2.3821191000000113 s...\n",
      "Loaded datasets. Time taken: 17.77695250000005 s\n"
     ]
    }
   ],
   "source": [
    "from shared.helpers import build_set\n",
    "\n",
    "# Gets the histogram sets with labels\n",
    "print('Loading datasets...')\n",
    "load_time_start = time.perf_counter()\n",
    "\n",
    "labels = np.array([0,1])\n",
    "y_train, x_train = build_set('train', binary=True, use_moments=True, with_extensions=True)\n",
    "y_test, x_test = build_set('test', binary=True, use_moments=True, with_extensions=True)\n",
    "\n",
    "print(f'Loaded datasets. Time taken: {time.perf_counter() - load_time_start} s')"
   ]
  },
  {
   "cell_type": "code",
   "execution_count": 3,
   "metadata": {},
   "outputs": [
    {
     "name": "stdout",
     "output_type": "stream",
     "text": [
      "unscaled:  [[ -3.1523345  -7.2572093 -11.15301   -12.524306  -24.662037  -16.436357\n",
      "  -24.42609  ]\n",
      " [ -3.1742635  -7.6360016 -11.778712  -12.834935  -25.586607  -17.294075\n",
      "  -25.171728 ]]\n",
      "Scaling and fitting dataset...\n",
      "Scaling and fitting dataset...\n",
      "scaled:  [[-0.23317589  0.54865736  0.15126559 -0.11027179 -0.06145787  0.07264346\n",
      "   0.11679873]\n",
      " [-0.5273372  -0.59333515 -1.1655784  -0.5280247  -0.7270186  -0.75469023\n",
      "  -0.46720853]]\n"
     ]
    }
   ],
   "source": [
    "# Escalonamento do dataset\n",
    "\n",
    "import importlib\n",
    "\n",
    "helpers = importlib.import_module('shared.helpers')\n",
    "importlib.reload(helpers)\n",
    "\n",
    "from shared.helpers import scale_dataset\n",
    "\n",
    "print('unscaled: ', x_train[:2])\n",
    "\n",
    "x_scaled = x_train\n",
    "x_test_scaled = x_test\n",
    "\n",
    "x_scaled = scale_dataset(x_scaled)\n",
    "x_test_scaled = scale_dataset(x_test_scaled)\n",
    "\n",
    "print('scaled: ', x_scaled[:2])"
   ]
  },
  {
   "cell_type": "code",
   "execution_count": 4,
   "metadata": {},
   "outputs": [],
   "source": [
    "# Realiza treinamento buscando melhores parâmetros\n",
    "\n",
    "from sklearn.neighbors import KNeighborsClassifier\n",
    "from sklearn.model_selection import GridSearchCV\n",
    "\n",
    "params = {\n",
    "    'n_neighbors': range(1, 120),\n",
    "    'weights': ['uniform', 'distance']\n",
    "}\n",
    "\n",
    "knn = KNeighborsClassifier(n_jobs=-1)\n",
    "clf = GridSearchCV(knn, params, cv=5)\n",
    "clf.fit(x_scaled, y_train)\n",
    "\n",
    "clf = clf.best_estimator_"
   ]
  },
  {
   "cell_type": "code",
   "execution_count": 5,
   "metadata": {},
   "outputs": [
    {
     "name": "stdout",
     "output_type": "stream",
     "text": [
      "Accuracy: 59.05797101449275%\n",
      "\n",
      "Classification report:\n",
      "              precision    recall  f1-score   support\n",
      "\n",
      "           0       0.61      0.75      0.67      2805\n",
      "           1       0.54      0.39      0.45      2163\n",
      "\n",
      "    accuracy                           0.59      4968\n",
      "   macro avg       0.58      0.57      0.56      4968\n",
      "weighted avg       0.58      0.59      0.58      4968\n",
      "\n",
      "\n",
      "Confusion matrix:\n",
      "Labels: [0 1]\n",
      "\n",
      "[[2099  706]\n",
      " [1328  835]]\n"
     ]
    }
   ],
   "source": [
    "# Avalia o treinamento\n",
    "\n",
    "from sklearn.metrics import confusion_matrix, classification_report\n",
    "\n",
    "y_predict=clf.predict(x_test_scaled)\n",
    "accuracy = clf.score(x_test_scaled, y_test)\n",
    "\n",
    "print(f\"Accuracy: {accuracy * 100}%\")\n",
    "print(\"\\nClassification report:\")\n",
    "print(classification_report(y_test, y_predict))\n",
    "\n",
    "print(\"\\nConfusion matrix:\")\n",
    "print(f\"Labels: {labels}\\n\")\n",
    "print(confusion_matrix(y_test, y_predict, labels=labels))"
   ]
  },
  {
   "cell_type": "code",
   "execution_count": 6,
   "metadata": {},
   "outputs": [],
   "source": [
    "# Salvar o modelo\n",
    "\n",
    "import os\n",
    "import joblib\n",
    "\n",
    "import shared.constants as constants\n",
    "\n",
    "if os.path.exists(constants.MODELS_DIR):\n",
    "    joblib.dump(clf, 'shallow_bin.sav')\n",
    "else:\n",
    "    print('Cannot save trained svm model to shallow_binary.sav')"
   ]
  }
 ],
 "metadata": {
  "kernelspec": {
   "display_name": "Python 3.8.10 ('knee-cam-67c2BY9w')",
   "language": "python",
   "name": "python3"
  },
  "language_info": {
   "codemirror_mode": {
    "name": "ipython",
    "version": 3
   },
   "file_extension": ".py",
   "mimetype": "text/x-python",
   "name": "python",
   "nbconvert_exporter": "python",
   "pygments_lexer": "ipython3",
   "version": "3.8.10"
  },
  "orig_nbformat": 4,
  "vscode": {
   "interpreter": {
    "hash": "f57cfe8d91c4ec02806b1b08856b19c0a180e0217a558a435e8666fb3ec055b8"
   }
  }
 },
 "nbformat": 4,
 "nbformat_minor": 2
}
