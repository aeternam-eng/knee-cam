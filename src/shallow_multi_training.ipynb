{
 "cells": [
  {
   "cell_type": "code",
   "execution_count": 6,
   "metadata": {},
   "outputs": [],
   "source": [
    "import time\n",
    "import numpy as np"
   ]
  },
  {
   "cell_type": "code",
   "execution_count": 7,
   "metadata": {},
   "outputs": [
    {
     "name": "stdout",
     "output_type": "stream",
     "text": [
      "Loading datasets...\n",
      "Loading train dataset...\n",
      "Loaded 17334 images (with extensions) in 6.357823800000006 s\n",
      "Getting image descriptors...\n",
      "Loaded descriptors for label 0:  (6858, 2)\n",
      "Loaded descriptors for label 1:  (3138, 2)\n",
      "Loaded descriptors for label 2:  (4548, 2)\n",
      "Loaded descriptors for label 3:  (2271, 2)\n",
      "Loaded descriptors for label 4:  (519, 2)\n",
      "Total image loading time: 10.462506000000076 s...\n",
      "Loading test dataset...\n",
      "Loaded 4968 images (with extensions) in 1.6939256000000569 s\n",
      "Getting image descriptors...\n",
      "Loaded descriptors for label 0:  (1917, 2)\n",
      "Loaded descriptors for label 1:  (888, 2)\n",
      "Loaded descriptors for label 2:  (1341, 2)\n",
      "Loaded descriptors for label 3:  (669, 2)\n",
      "Loaded descriptors for label 4:  (153, 2)\n",
      "Total image loading time: 2.890775699999949 s...\n",
      "Loaded datasets. Time taken: 13.428830700000162 s\n"
     ]
    }
   ],
   "source": [
    "from shared.helpers import build_set\n",
    "\n",
    "# Gets the histogram sets with labels\n",
    "print('Loading datasets...')\n",
    "load_time_start = time.perf_counter()\n",
    "\n",
    "labels = np.array([0, 1, 2, 3, 4])\n",
    "y_train, x_train = build_set('train', binary=False, use_moments=True, with_extensions=True)\n",
    "y_test, x_test = build_set('test', binary=False, use_moments=True, with_extensions=True)\n",
    "\n",
    "print(f'Loaded datasets. Time taken: {time.perf_counter() - load_time_start} s')"
   ]
  },
  {
   "cell_type": "code",
   "execution_count": 12,
   "metadata": {},
   "outputs": [
    {
     "name": "stdout",
     "output_type": "stream",
     "text": [
      "unscaled:  [[ -3.1523345  -7.2572093 -11.15301   -12.524306  -24.662037  -16.436357\n",
      "  -24.42609  ]\n",
      " [ -3.1742635  -7.6360016 -11.778712  -12.834935  -25.586607  -17.294075\n",
      "  -25.171728 ]]\n",
      "Scaling and fitting dataset...\n",
      "Scaling and fitting dataset...\n",
      "scaled:  [[-0.23317589  0.54865736  0.15126559 -0.11027179 -0.06145787  0.07264346\n",
      "   0.11679873]\n",
      " [-0.5273372  -0.59333515 -1.1655784  -0.5280247  -0.7270186  -0.75469023\n",
      "  -0.46720853]]\n"
     ]
    }
   ],
   "source": [
    "import importlib\n",
    "\n",
    "helpers = importlib.import_module('shared.helpers')\n",
    "importlib.reload(helpers)\n",
    "\n",
    "from shared.helpers import scale_dataset\n",
    "\n",
    "print('unscaled: ', x_train[:2])\n",
    "\n",
    "x_scaled = x_train\n",
    "x_test_scaled = x_test\n",
    "\n",
    "x_scaled = scale_dataset(x_scaled)\n",
    "x_test_scaled = scale_dataset(x_test_scaled)\n",
    "\n",
    "print('scaled: ', x_scaled[:2])"
   ]
  },
  {
   "cell_type": "code",
   "execution_count": 13,
   "metadata": {},
   "outputs": [
    {
     "data": {
      "text/html": [
       "<style>#sk-container-id-2 {color: black;background-color: white;}#sk-container-id-2 pre{padding: 0;}#sk-container-id-2 div.sk-toggleable {background-color: white;}#sk-container-id-2 label.sk-toggleable__label {cursor: pointer;display: block;width: 100%;margin-bottom: 0;padding: 0.3em;box-sizing: border-box;text-align: center;}#sk-container-id-2 label.sk-toggleable__label-arrow:before {content: \"▸\";float: left;margin-right: 0.25em;color: #696969;}#sk-container-id-2 label.sk-toggleable__label-arrow:hover:before {color: black;}#sk-container-id-2 div.sk-estimator:hover label.sk-toggleable__label-arrow:before {color: black;}#sk-container-id-2 div.sk-toggleable__content {max-height: 0;max-width: 0;overflow: hidden;text-align: left;background-color: #f0f8ff;}#sk-container-id-2 div.sk-toggleable__content pre {margin: 0.2em;color: black;border-radius: 0.25em;background-color: #f0f8ff;}#sk-container-id-2 input.sk-toggleable__control:checked~div.sk-toggleable__content {max-height: 200px;max-width: 100%;overflow: auto;}#sk-container-id-2 input.sk-toggleable__control:checked~label.sk-toggleable__label-arrow:before {content: \"▾\";}#sk-container-id-2 div.sk-estimator input.sk-toggleable__control:checked~label.sk-toggleable__label {background-color: #d4ebff;}#sk-container-id-2 div.sk-label input.sk-toggleable__control:checked~label.sk-toggleable__label {background-color: #d4ebff;}#sk-container-id-2 input.sk-hidden--visually {border: 0;clip: rect(1px 1px 1px 1px);clip: rect(1px, 1px, 1px, 1px);height: 1px;margin: -1px;overflow: hidden;padding: 0;position: absolute;width: 1px;}#sk-container-id-2 div.sk-estimator {font-family: monospace;background-color: #f0f8ff;border: 1px dotted black;border-radius: 0.25em;box-sizing: border-box;margin-bottom: 0.5em;}#sk-container-id-2 div.sk-estimator:hover {background-color: #d4ebff;}#sk-container-id-2 div.sk-parallel-item::after {content: \"\";width: 100%;border-bottom: 1px solid gray;flex-grow: 1;}#sk-container-id-2 div.sk-label:hover label.sk-toggleable__label {background-color: #d4ebff;}#sk-container-id-2 div.sk-serial::before {content: \"\";position: absolute;border-left: 1px solid gray;box-sizing: border-box;top: 0;bottom: 0;left: 50%;z-index: 0;}#sk-container-id-2 div.sk-serial {display: flex;flex-direction: column;align-items: center;background-color: white;padding-right: 0.2em;padding-left: 0.2em;position: relative;}#sk-container-id-2 div.sk-item {position: relative;z-index: 1;}#sk-container-id-2 div.sk-parallel {display: flex;align-items: stretch;justify-content: center;background-color: white;position: relative;}#sk-container-id-2 div.sk-item::before, #sk-container-id-2 div.sk-parallel-item::before {content: \"\";position: absolute;border-left: 1px solid gray;box-sizing: border-box;top: 0;bottom: 0;left: 50%;z-index: -1;}#sk-container-id-2 div.sk-parallel-item {display: flex;flex-direction: column;z-index: 1;position: relative;background-color: white;}#sk-container-id-2 div.sk-parallel-item:first-child::after {align-self: flex-end;width: 50%;}#sk-container-id-2 div.sk-parallel-item:last-child::after {align-self: flex-start;width: 50%;}#sk-container-id-2 div.sk-parallel-item:only-child::after {width: 0;}#sk-container-id-2 div.sk-dashed-wrapped {border: 1px dashed gray;margin: 0 0.4em 0.5em 0.4em;box-sizing: border-box;padding-bottom: 0.4em;background-color: white;}#sk-container-id-2 div.sk-label label {font-family: monospace;font-weight: bold;display: inline-block;line-height: 1.2em;}#sk-container-id-2 div.sk-label-container {text-align: center;}#sk-container-id-2 div.sk-container {/* jupyter's `normalize.less` sets `[hidden] { display: none; }` but bootstrap.min.css set `[hidden] { display: none !important; }` so we also need the `!important` here to be able to override the default hidden behavior on the sphinx rendered scikit-learn.org. See: https://github.com/scikit-learn/scikit-learn/issues/21755 */display: inline-block !important;position: relative;}#sk-container-id-2 div.sk-text-repr-fallback {display: none;}</style><div id=\"sk-container-id-2\" class=\"sk-top-container\"><div class=\"sk-text-repr-fallback\"><pre>KNeighborsClassifier(n_jobs=-1, n_neighbors=7, weights=&#x27;distance&#x27;)</pre><b>In a Jupyter environment, please rerun this cell to show the HTML representation or trust the notebook. <br />On GitHub, the HTML representation is unable to render, please try loading this page with nbviewer.org.</b></div><div class=\"sk-container\" hidden><div class=\"sk-item\"><div class=\"sk-estimator sk-toggleable\"><input class=\"sk-toggleable__control sk-hidden--visually\" id=\"sk-estimator-id-2\" type=\"checkbox\" checked><label for=\"sk-estimator-id-2\" class=\"sk-toggleable__label sk-toggleable__label-arrow\">KNeighborsClassifier</label><div class=\"sk-toggleable__content\"><pre>KNeighborsClassifier(n_jobs=-1, n_neighbors=7, weights=&#x27;distance&#x27;)</pre></div></div></div></div></div>"
      ],
      "text/plain": [
       "KNeighborsClassifier(n_jobs=-1, n_neighbors=7, weights='distance')"
      ]
     },
     "execution_count": 13,
     "metadata": {},
     "output_type": "execute_result"
    }
   ],
   "source": [
    "from sklearn.neighbors import KNeighborsClassifier\n",
    "from sklearn.model_selection import GridSearchCV\n",
    "\n",
    "params = {\n",
    "    'n_neighbors': range(1, 120),\n",
    "    'weights': ['uniform', 'distance']\n",
    "}\n",
    "\n",
    "knn = KNeighborsClassifier(n_jobs=-1)\n",
    "clf = GridSearchCV(knn, params, cv=5)\n",
    "clf.fit(x_scaled, y_train)\n",
    "\n",
    "clf = clf.best_estimator_"
   ]
  },
  {
   "cell_type": "code",
   "execution_count": 16,
   "metadata": {},
   "outputs": [
    {
     "name": "stdout",
     "output_type": "stream",
     "text": [
      "Accuracy: 32.46779388083736%\n",
      "\n",
      "Classification report:\n",
      "              precision    recall  f1-score   support\n",
      "\n",
      "           0       0.41      0.54      0.47      1917\n",
      "           1       0.19      0.15      0.17       888\n",
      "           2       0.27      0.25      0.26      1341\n",
      "           3       0.21      0.14      0.17       669\n",
      "           4       0.14      0.06      0.08       153\n",
      "\n",
      "    accuracy                           0.32      4968\n",
      "   macro avg       0.25      0.23      0.23      4968\n",
      "weighted avg       0.30      0.32      0.31      4968\n",
      "\n",
      "\n",
      "Confusion matrix:\n",
      "Labels: [0 1 2 3 4]\n",
      "\n",
      "[[1032  274  448  148   15]\n",
      " [ 448  137  231   68    4]\n",
      " [ 671  180  338  130   22]\n",
      " [ 280   96  183   97   13]\n",
      " [  62   28   33   21    9]]\n"
     ]
    }
   ],
   "source": [
    "from sklearn.metrics import confusion_matrix, classification_report\n",
    "\n",
    "y_predict=clf.predict(x_test_scaled)\n",
    "accuracy = clf.score(x_test_scaled, y_test)\n",
    "\n",
    "print(f\"Accuracy: {accuracy * 100}%\")\n",
    "print(\"\\nClassification report:\")\n",
    "print(classification_report(y_test, y_predict))\n",
    "\n",
    "print(\"\\nConfusion matrix:\")\n",
    "print(f\"Labels: {labels}\\n\")\n",
    "print(confusion_matrix(y_test, y_predict, labels=labels))"
   ]
  },
  {
   "cell_type": "code",
   "execution_count": 18,
   "metadata": {},
   "outputs": [],
   "source": [
    "import os\n",
    "import joblib\n",
    "\n",
    "import shared.constants as constants\n",
    "\n",
    "if os.path.exists(constants.MODELS_DIR):\n",
    "    joblib.dump(clf, 'shallow_multi.sav')\n",
    "else:\n",
    "    print(\"Cannot save trained svm model to {0}.\".format(constants.SHALLOW_MODEL_NAME))"
   ]
  }
 ],
 "metadata": {
  "kernelspec": {
   "display_name": "Python 3.8.10 ('knee-cam-67c2BY9w')",
   "language": "python",
   "name": "python3"
  },
  "language_info": {
   "codemirror_mode": {
    "name": "ipython",
    "version": 3
   },
   "file_extension": ".py",
   "mimetype": "text/x-python",
   "name": "python",
   "nbconvert_exporter": "python",
   "pygments_lexer": "ipython3",
   "version": "3.8.10"
  },
  "orig_nbformat": 4,
  "vscode": {
   "interpreter": {
    "hash": "f57cfe8d91c4ec02806b1b08856b19c0a180e0217a558a435e8666fb3ec055b8"
   }
  }
 },
 "nbformat": 4,
 "nbformat_minor": 2
}
