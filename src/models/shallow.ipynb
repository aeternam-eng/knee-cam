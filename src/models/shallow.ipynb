{
 "cells": [
  {
   "cell_type": "code",
   "execution_count": 22,
   "metadata": {},
   "outputs": [],
   "source": [
    "import os\n",
    "import time\n",
    "import joblib\n",
    "from pathlib import Path\n",
    "import numpy as np\n",
    "\n",
    "import processing\n",
    "import constants\n",
    "import helpers\n",
    "\n",
    "def get_image_descriptors(image):\n",
    "    processed = processing.filter_image(image)\n",
    "    moments = processing.calculate_image_moments(processed)\n",
    "\n",
    "    moments = np.array([moment[0] for moment in moments], dtype=np.float32)\n",
    "    moments = np.abs(moments)\n",
    "    moments = np.log10(moments)\n",
    "\n",
    "    return moments\n",
    "\n",
    "def describe_image(image, label):\n",
    "    descriptors = get_image_descriptors(image)\n",
    "    return (np.array(descriptors), label)\n",
    "\n",
    "def describe_images_in_class(images, label):\n",
    "    classDescriptors = joblib.Parallel(n_jobs=5)(joblib.delayed(describe_image)(image, label) for image in images)\n",
    "    classDescriptors = np.array(classDescriptors, dtype=object)\n",
    "\n",
    "    print('class', classDescriptors.shape)\n",
    "\n",
    "    return classDescriptors\n",
    "\n",
    "def build_image_descriptors(imagesByLabels):\n",
    "    labeledDescriptors = np.empty((0,2))\n",
    "\n",
    "    for label in range(len(imagesByLabels)):\n",
    "        labeledDescriptors = np.concatenate((labeledDescriptors, describe_images_in_class(imagesByLabels[label], label)))\n",
    "\n",
    "    print('labeled1', labeledDescriptors.shape)\n",
    "\n",
    "    return labeledDescriptors\n",
    "\n",
    "def build_set(set_type):\n",
    "    start_time = time.perf_counter()\n",
    "\n",
    "    print(f'Loading {set_type} dataset...')\n",
    "    labels = np.array([0,1,2,3,4])\n",
    "    imagesByLabels = [helpers.get_and_enrich_all_images_from_directory(Path(constants.DATASET_DIR, set_type, str(classType))) for classType in labels]\n",
    "    print(f'Loaded {sum(len(l) for l in imagesByLabels)} images (with extensions) in {time.perf_counter() - start_time} s')\n",
    "\n",
    "    print(f'Getting image descriptors...')\n",
    "    labeledDescriptors = build_image_descriptors(imagesByLabels)\n",
    "    print(f'Total image loading time: {time.perf_counter() - start_time} s...')\n",
    "\n",
    "    descriptors, labels = zip(*[(item[0], item[1]) for item in labeledDescriptors])\n",
    "    descriptors = np.array(descriptors)\n",
    "    labels = np.array(labels)\n",
    "\n",
    "    # print(descriptors[:4], labels)\n",
    "\n",
    "    return labels, descriptors"
   ]
  },
  {
   "cell_type": "code",
   "execution_count": 3,
   "metadata": {},
   "outputs": [
    {
     "name": "stdout",
     "output_type": "stream",
     "text": [
      "Loading datasets...\n",
      "Loading train dataset...\n",
      "Loaded 17334 images (with extensions) in 9.352803600000001 s\n",
      "Getting image descriptors...\n",
      "class (6858, 2)\n",
      "class (3138, 2)\n",
      "class (4548, 2)\n",
      "class (2271, 2)\n",
      "class (519, 2)\n",
      "labeled1 (17334, 2)\n",
      "Total image loading time: 92.60298 s...\n",
      "Loading val dataset...\n",
      "Loaded 2478 images (with extensions) in 1.3310684000000066 s\n",
      "Getting image descriptors...\n",
      "class (984, 2)\n",
      "class (459, 2)\n",
      "class (636, 2)\n",
      "class (318, 2)\n",
      "class (81, 2)\n",
      "labeled1 (2478, 2)\n",
      "Total image loading time: 13.198375900000002 s...\n",
      "Loaded datasets. Time taken: 105.9452404 s\n"
     ]
    }
   ],
   "source": [
    "# Gets the histogram sets with labels\n",
    "print('Loading datasets...')\n",
    "load_time_start = time.perf_counter()\n",
    "\n",
    "labels = np.array([0,1,2,3,4])\n",
    "y_train, x_train = build_set('train')\n",
    "y_test, x_test = build_set('val')\n",
    "\n",
    "print(f'Loaded datasets. Time taken: {time.perf_counter() - load_time_start} s')"
   ]
  },
  {
   "cell_type": "code",
   "execution_count": 13,
   "metadata": {},
   "outputs": [],
   "source": [
    "from sklearn.preprocessing import RobustScaler, scale\n",
    "\n",
    "print(x_train[:2])\n",
    "\n",
    "x_scaled = x_train\n",
    "x_test_scaled = x_test\n",
    "\n",
    "scaler = RobustScaler()\n",
    "\n",
    "x_scaled = scaler.fit_transform(x_train)\n",
    "x_test_scaled = scaler.fit_transform(x_test)\n",
    "\n",
    "x_scaled = scale(x_train)\n",
    "x_test_scaled = scale(x_test)\n",
    "\n",
    "print(x_scaled[:2])"
   ]
  },
  {
   "cell_type": "code",
   "execution_count": 24,
   "metadata": {},
   "outputs": [
    {
     "data": {
      "text/html": [
       "<style>#sk-container-id-7 {color: black;background-color: white;}#sk-container-id-7 pre{padding: 0;}#sk-container-id-7 div.sk-toggleable {background-color: white;}#sk-container-id-7 label.sk-toggleable__label {cursor: pointer;display: block;width: 100%;margin-bottom: 0;padding: 0.3em;box-sizing: border-box;text-align: center;}#sk-container-id-7 label.sk-toggleable__label-arrow:before {content: \"▸\";float: left;margin-right: 0.25em;color: #696969;}#sk-container-id-7 label.sk-toggleable__label-arrow:hover:before {color: black;}#sk-container-id-7 div.sk-estimator:hover label.sk-toggleable__label-arrow:before {color: black;}#sk-container-id-7 div.sk-toggleable__content {max-height: 0;max-width: 0;overflow: hidden;text-align: left;background-color: #f0f8ff;}#sk-container-id-7 div.sk-toggleable__content pre {margin: 0.2em;color: black;border-radius: 0.25em;background-color: #f0f8ff;}#sk-container-id-7 input.sk-toggleable__control:checked~div.sk-toggleable__content {max-height: 200px;max-width: 100%;overflow: auto;}#sk-container-id-7 input.sk-toggleable__control:checked~label.sk-toggleable__label-arrow:before {content: \"▾\";}#sk-container-id-7 div.sk-estimator input.sk-toggleable__control:checked~label.sk-toggleable__label {background-color: #d4ebff;}#sk-container-id-7 div.sk-label input.sk-toggleable__control:checked~label.sk-toggleable__label {background-color: #d4ebff;}#sk-container-id-7 input.sk-hidden--visually {border: 0;clip: rect(1px 1px 1px 1px);clip: rect(1px, 1px, 1px, 1px);height: 1px;margin: -1px;overflow: hidden;padding: 0;position: absolute;width: 1px;}#sk-container-id-7 div.sk-estimator {font-family: monospace;background-color: #f0f8ff;border: 1px dotted black;border-radius: 0.25em;box-sizing: border-box;margin-bottom: 0.5em;}#sk-container-id-7 div.sk-estimator:hover {background-color: #d4ebff;}#sk-container-id-7 div.sk-parallel-item::after {content: \"\";width: 100%;border-bottom: 1px solid gray;flex-grow: 1;}#sk-container-id-7 div.sk-label:hover label.sk-toggleable__label {background-color: #d4ebff;}#sk-container-id-7 div.sk-serial::before {content: \"\";position: absolute;border-left: 1px solid gray;box-sizing: border-box;top: 0;bottom: 0;left: 50%;z-index: 0;}#sk-container-id-7 div.sk-serial {display: flex;flex-direction: column;align-items: center;background-color: white;padding-right: 0.2em;padding-left: 0.2em;position: relative;}#sk-container-id-7 div.sk-item {position: relative;z-index: 1;}#sk-container-id-7 div.sk-parallel {display: flex;align-items: stretch;justify-content: center;background-color: white;position: relative;}#sk-container-id-7 div.sk-item::before, #sk-container-id-7 div.sk-parallel-item::before {content: \"\";position: absolute;border-left: 1px solid gray;box-sizing: border-box;top: 0;bottom: 0;left: 50%;z-index: -1;}#sk-container-id-7 div.sk-parallel-item {display: flex;flex-direction: column;z-index: 1;position: relative;background-color: white;}#sk-container-id-7 div.sk-parallel-item:first-child::after {align-self: flex-end;width: 50%;}#sk-container-id-7 div.sk-parallel-item:last-child::after {align-self: flex-start;width: 50%;}#sk-container-id-7 div.sk-parallel-item:only-child::after {width: 0;}#sk-container-id-7 div.sk-dashed-wrapped {border: 1px dashed gray;margin: 0 0.4em 0.5em 0.4em;box-sizing: border-box;padding-bottom: 0.4em;background-color: white;}#sk-container-id-7 div.sk-label label {font-family: monospace;font-weight: bold;display: inline-block;line-height: 1.2em;}#sk-container-id-7 div.sk-label-container {text-align: center;}#sk-container-id-7 div.sk-container {/* jupyter's `normalize.less` sets `[hidden] { display: none; }` but bootstrap.min.css set `[hidden] { display: none !important; }` so we also need the `!important` here to be able to override the default hidden behavior on the sphinx rendered scikit-learn.org. See: https://github.com/scikit-learn/scikit-learn/issues/21755 */display: inline-block !important;position: relative;}#sk-container-id-7 div.sk-text-repr-fallback {display: none;}</style><div id=\"sk-container-id-7\" class=\"sk-top-container\"><div class=\"sk-text-repr-fallback\"><pre>KNeighborsClassifier(n_jobs=-1, n_neighbors=60)</pre><b>In a Jupyter environment, please rerun this cell to show the HTML representation or trust the notebook. <br />On GitHub, the HTML representation is unable to render, please try loading this page with nbviewer.org.</b></div><div class=\"sk-container\" hidden><div class=\"sk-item\"><div class=\"sk-estimator sk-toggleable\"><input class=\"sk-toggleable__control sk-hidden--visually\" id=\"sk-estimator-id-7\" type=\"checkbox\" checked><label for=\"sk-estimator-id-7\" class=\"sk-toggleable__label sk-toggleable__label-arrow\">KNeighborsClassifier</label><div class=\"sk-toggleable__content\"><pre>KNeighborsClassifier(n_jobs=-1, n_neighbors=60)</pre></div></div></div></div></div>"
      ],
      "text/plain": [
       "KNeighborsClassifier(n_jobs=-1, n_neighbors=60)"
      ]
     },
     "execution_count": 24,
     "metadata": {},
     "output_type": "execute_result"
    }
   ],
   "source": [
    "from sklearn.neighbors import KNeighborsClassifier\n",
    "\n",
    "clf = KNeighborsClassifier(n_neighbors=60, n_jobs=-1)\n",
    "clf.fit(x_scaled, y_train)"
   ]
  },
  {
   "cell_type": "code",
   "execution_count": 27,
   "metadata": {},
   "outputs": [
    {
     "name": "stdout",
     "output_type": "stream",
     "text": [
      "Fitting 5 folds for each of 8 candidates, totalling 40 fits\n"
     ]
    }
   ],
   "source": [
    "from sklearn.svm import SVC\n",
    "from sklearn.model_selection import GridSearchCV\n",
    "\n",
    "parameters = {\n",
    "    'kernel': ( 'linear', 'rbf' ),\n",
    "    'C': [0.1, 10, 100, 1000]\n",
    "}\n",
    "\n",
    "svc = SVC()\n",
    "clf = GridSearchCV(svc, parameters, verbose=1, n_jobs=-1)\n",
    "clf.fit(x_scaled, y_train)\n",
    "\n",
    "clf = clf.best_estimator_"
   ]
  },
  {
   "cell_type": "code",
   "execution_count": 18,
   "metadata": {},
   "outputs": [
    {
     "data": {
      "text/html": [
       "<style>#sk-container-id-4 {color: black;background-color: white;}#sk-container-id-4 pre{padding: 0;}#sk-container-id-4 div.sk-toggleable {background-color: white;}#sk-container-id-4 label.sk-toggleable__label {cursor: pointer;display: block;width: 100%;margin-bottom: 0;padding: 0.3em;box-sizing: border-box;text-align: center;}#sk-container-id-4 label.sk-toggleable__label-arrow:before {content: \"▸\";float: left;margin-right: 0.25em;color: #696969;}#sk-container-id-4 label.sk-toggleable__label-arrow:hover:before {color: black;}#sk-container-id-4 div.sk-estimator:hover label.sk-toggleable__label-arrow:before {color: black;}#sk-container-id-4 div.sk-toggleable__content {max-height: 0;max-width: 0;overflow: hidden;text-align: left;background-color: #f0f8ff;}#sk-container-id-4 div.sk-toggleable__content pre {margin: 0.2em;color: black;border-radius: 0.25em;background-color: #f0f8ff;}#sk-container-id-4 input.sk-toggleable__control:checked~div.sk-toggleable__content {max-height: 200px;max-width: 100%;overflow: auto;}#sk-container-id-4 input.sk-toggleable__control:checked~label.sk-toggleable__label-arrow:before {content: \"▾\";}#sk-container-id-4 div.sk-estimator input.sk-toggleable__control:checked~label.sk-toggleable__label {background-color: #d4ebff;}#sk-container-id-4 div.sk-label input.sk-toggleable__control:checked~label.sk-toggleable__label {background-color: #d4ebff;}#sk-container-id-4 input.sk-hidden--visually {border: 0;clip: rect(1px 1px 1px 1px);clip: rect(1px, 1px, 1px, 1px);height: 1px;margin: -1px;overflow: hidden;padding: 0;position: absolute;width: 1px;}#sk-container-id-4 div.sk-estimator {font-family: monospace;background-color: #f0f8ff;border: 1px dotted black;border-radius: 0.25em;box-sizing: border-box;margin-bottom: 0.5em;}#sk-container-id-4 div.sk-estimator:hover {background-color: #d4ebff;}#sk-container-id-4 div.sk-parallel-item::after {content: \"\";width: 100%;border-bottom: 1px solid gray;flex-grow: 1;}#sk-container-id-4 div.sk-label:hover label.sk-toggleable__label {background-color: #d4ebff;}#sk-container-id-4 div.sk-serial::before {content: \"\";position: absolute;border-left: 1px solid gray;box-sizing: border-box;top: 0;bottom: 0;left: 50%;z-index: 0;}#sk-container-id-4 div.sk-serial {display: flex;flex-direction: column;align-items: center;background-color: white;padding-right: 0.2em;padding-left: 0.2em;position: relative;}#sk-container-id-4 div.sk-item {position: relative;z-index: 1;}#sk-container-id-4 div.sk-parallel {display: flex;align-items: stretch;justify-content: center;background-color: white;position: relative;}#sk-container-id-4 div.sk-item::before, #sk-container-id-4 div.sk-parallel-item::before {content: \"\";position: absolute;border-left: 1px solid gray;box-sizing: border-box;top: 0;bottom: 0;left: 50%;z-index: -1;}#sk-container-id-4 div.sk-parallel-item {display: flex;flex-direction: column;z-index: 1;position: relative;background-color: white;}#sk-container-id-4 div.sk-parallel-item:first-child::after {align-self: flex-end;width: 50%;}#sk-container-id-4 div.sk-parallel-item:last-child::after {align-self: flex-start;width: 50%;}#sk-container-id-4 div.sk-parallel-item:only-child::after {width: 0;}#sk-container-id-4 div.sk-dashed-wrapped {border: 1px dashed gray;margin: 0 0.4em 0.5em 0.4em;box-sizing: border-box;padding-bottom: 0.4em;background-color: white;}#sk-container-id-4 div.sk-label label {font-family: monospace;font-weight: bold;display: inline-block;line-height: 1.2em;}#sk-container-id-4 div.sk-label-container {text-align: center;}#sk-container-id-4 div.sk-container {/* jupyter's `normalize.less` sets `[hidden] { display: none; }` but bootstrap.min.css set `[hidden] { display: none !important; }` so we also need the `!important` here to be able to override the default hidden behavior on the sphinx rendered scikit-learn.org. See: https://github.com/scikit-learn/scikit-learn/issues/21755 */display: inline-block !important;position: relative;}#sk-container-id-4 div.sk-text-repr-fallback {display: none;}</style><div id=\"sk-container-id-4\" class=\"sk-top-container\"><div class=\"sk-text-repr-fallback\"><pre>SGDClassifier(alpha=1e-05, epsilon=0.001, eta0=0.0001, learning_rate=&#x27;adaptive&#x27;,\n",
       "              max_iter=70000, n_iter_no_change=10000, penalty=&#x27;elasticnet&#x27;,\n",
       "              tol=1e-05)</pre><b>In a Jupyter environment, please rerun this cell to show the HTML representation or trust the notebook. <br />On GitHub, the HTML representation is unable to render, please try loading this page with nbviewer.org.</b></div><div class=\"sk-container\" hidden><div class=\"sk-item\"><div class=\"sk-estimator sk-toggleable\"><input class=\"sk-toggleable__control sk-hidden--visually\" id=\"sk-estimator-id-4\" type=\"checkbox\" checked><label for=\"sk-estimator-id-4\" class=\"sk-toggleable__label sk-toggleable__label-arrow\">SGDClassifier</label><div class=\"sk-toggleable__content\"><pre>SGDClassifier(alpha=1e-05, epsilon=0.001, eta0=0.0001, learning_rate=&#x27;adaptive&#x27;,\n",
       "              max_iter=70000, n_iter_no_change=10000, penalty=&#x27;elasticnet&#x27;,\n",
       "              tol=1e-05)</pre></div></div></div></div></div>"
      ],
      "text/plain": [
       "SGDClassifier(alpha=1e-05, epsilon=0.001, eta0=0.0001, learning_rate='adaptive',\n",
       "              max_iter=70000, n_iter_no_change=10000, penalty='elasticnet',\n",
       "              tol=1e-05)"
      ]
     },
     "execution_count": 18,
     "metadata": {},
     "output_type": "execute_result"
    }
   ],
   "source": [
    "from sklearn.linear_model import SGDClassifier\n",
    "\n",
    "clf = SGDClassifier(loss='hinge', verbose=0, n_iter_no_change=10000, penalty='elasticnet', alpha=1e-5, tol=1e-5, eta0=1e-4, learning_rate=\"adaptive\", epsilon=1e-3, max_iter=70000)\n",
    "clf.fit(x_scaled, y_train)"
   ]
  },
  {
   "cell_type": "code",
   "execution_count": 28,
   "metadata": {},
   "outputs": [
    {
     "name": "stdout",
     "output_type": "stream",
     "text": [
      "Accuracy: 40.96045197740113%\n",
      "\n",
      "Classification report:\n",
      "              precision    recall  f1-score   support\n",
      "\n",
      "           0       0.43      0.90      0.58       984\n",
      "           1       0.04      0.00      0.00       459\n",
      "           2       0.35      0.19      0.25       636\n",
      "           3       0.18      0.02      0.04       318\n",
      "           4       0.20      0.01      0.02        81\n",
      "\n",
      "    accuracy                           0.41      2478\n",
      "   macro avg       0.24      0.23      0.18      2478\n",
      "weighted avg       0.30      0.41      0.30      2478\n",
      "\n",
      "\n",
      "Confusion matrix:\n",
      "Labels: [0 1 2 3 4]\n",
      "\n",
      "[[882  10  82  10   0]\n",
      " [399   1  50   8   1]\n",
      " [491   8 124  10   3]\n",
      " [235   4  72   7   0]\n",
      " [ 53   0  24   3   1]]\n"
     ]
    }
   ],
   "source": [
    "from sklearn.metrics import confusion_matrix, classification_report\n",
    "\n",
    "y_predict=clf.predict(x_test_scaled)\n",
    "accuracy = clf.score(x_test_scaled, y_test)\n",
    "\n",
    "print(f\"Accuracy: {accuracy * 100}%\")\n",
    "print(\"\\nClassification report:\")\n",
    "print(classification_report(y_test, y_predict))\n",
    "\n",
    "print(\"\\nConfusion matrix:\")\n",
    "print(f\"Labels: {labels}\\n\")\n",
    "print(confusion_matrix(y_test, y_predict, labels=labels))"
   ]
  },
  {
   "cell_type": "code",
   "execution_count": null,
   "metadata": {},
   "outputs": [
    {
     "name": "stdout",
     "output_type": "stream",
     "text": [
      "Cannot save trained svm model to ./svc.model.\n"
     ]
    }
   ],
   "source": [
    "model_output_path = './model.xml'\n",
    "\n",
    "if os.path.exists(model_output_path):\n",
    "    joblib.dump(clf, model_output_path)\n",
    "else:\n",
    "    print(\"Cannot save trained svm model to {0}.\".format(model_output_path))"
   ]
  }
 ],
 "metadata": {
  "kernelspec": {
   "display_name": "Python 3.8.10 ('knee-cam-67c2BY9w')",
   "language": "python",
   "name": "python3"
  },
  "language_info": {
   "codemirror_mode": {
    "name": "ipython",
    "version": 3
   },
   "file_extension": ".py",
   "mimetype": "text/x-python",
   "name": "python",
   "nbconvert_exporter": "python",
   "pygments_lexer": "ipython3",
   "version": "3.8.10"
  },
  "orig_nbformat": 4,
  "vscode": {
   "interpreter": {
    "hash": "f57cfe8d91c4ec02806b1b08856b19c0a180e0217a558a435e8666fb3ec055b8"
   }
  }
 },
 "nbformat": 4,
 "nbformat_minor": 2
}
